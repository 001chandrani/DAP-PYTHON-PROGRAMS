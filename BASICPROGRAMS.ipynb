{
  "nbformat": 4,
  "nbformat_minor": 0,
  "metadata": {
    "colab": {
      "provenance": [],
      "authorship_tag": "ABX9TyM5ujlNXC0ctM+2KdBwAY0R",
      "include_colab_link": true
    },
    "kernelspec": {
      "name": "python3",
      "display_name": "Python 3"
    },
    "language_info": {
      "name": "python"
    }
  },
  "cells": [
    {
      "cell_type": "markdown",
      "metadata": {
        "id": "view-in-github",
        "colab_type": "text"
      },
      "source": [
        "<a href=\"https://colab.research.google.com/github/001chandrani/DAP-PYTHON-PROGRAMS/blob/BASIC-PROGRAMS/BASICPROGRAMS.ipynb\" target=\"_parent\"><img src=\"https://colab.research.google.com/assets/colab-badge.svg\" alt=\"Open In Colab\"/></a>"
      ]
    },
    {
      "cell_type": "markdown",
      "source": [
        "**BASIC** **PROGRAMS**"
      ],
      "metadata": {
        "id": "aVobMVPWjFx4"
      }
    },
    {
      "cell_type": "code",
      "source": [
        "#1. PYTHON PROGRAM TO ADD TWO NUMBERS\n",
        "\n",
        "num1 = int(input('enter the first number:'))\n",
        "num2 = int(input('enter the second number:'))\n",
        "sum_of_the_numbers = num1 + num2\n",
        "print ('the sum of the numbers is',sum_of_the_numbers)\n"
      ],
      "metadata": {
        "colab": {
          "base_uri": "https://localhost:8080/"
        },
        "id": "IVJfKgjiQsPH",
        "outputId": "d59264c5-d20c-4a88-cd87-41ca522a61f3"
      },
      "execution_count": null,
      "outputs": [
        {
          "output_type": "stream",
          "name": "stdout",
          "text": [
            "enter the first number:1\n",
            "enter the second number:2\n",
            "the sum of the numbers is 3\n"
          ]
        }
      ]
    },
    {
      "cell_type": "code",
      "source": [
        "#2. MAXIMUM OF TWO NUMBERS IN PYTHON\n",
        "\n",
        "num1 = float(input(\"Enter the first number: \"))\n",
        "num2 = float(input(\"Enter the second number: \"))\n",
        "max_number = max(num1, num2)\n",
        "print(f\"The maximum of {num1} and {num2} is {max_number}\")\n",
        "\n"
      ],
      "metadata": {
        "colab": {
          "base_uri": "https://localhost:8080/"
        },
        "id": "gDKUEWV2b-b6",
        "outputId": "ac988206-ca11-418c-bfda-aab988c686cb"
      },
      "execution_count": null,
      "outputs": [
        {
          "output_type": "stream",
          "name": "stdout",
          "text": [
            "Enter the first number: 398456\n",
            "Enter the second number: 34565773\n",
            "The maximum of 398456.0 and 34565773.0 is 34565773.0\n"
          ]
        }
      ]
    },
    {
      "cell_type": "code",
      "source": [
        "#3. PYTHON PROGRAM FOR FACTORIAL OF A NUMBER\n",
        "\n",
        "def factorial(n):\n",
        "    return 1 if n == 0 else n * factorial(n - 1)\n",
        "\n",
        "num = int(input(\"Enter a number: \"))\n",
        "print(f\"The factorial of {num} is {factorial(num)}\")\n"
      ],
      "metadata": {
        "colab": {
          "base_uri": "https://localhost:8080/"
        },
        "id": "gcJk0KNgcyqm",
        "outputId": "73b8cf3b-190b-479c-88f5-7819c2748fea"
      },
      "execution_count": null,
      "outputs": [
        {
          "output_type": "stream",
          "name": "stdout",
          "text": [
            "Enter a number: 3\n",
            "The factorial of 3 is 6\n"
          ]
        }
      ]
    },
    {
      "cell_type": "code",
      "source": [
        "#4. PYTHON PROGRAM FOR SIMPLE INTEREST\n",
        "\n",
        "principal = float(input(\"Enter the principal amount: \"))\n",
        "rate = float(input(\"Enter the rate of interest: \"))\n",
        "time = float(input(\"Enter the time (in years): \"))\n",
        "simple_interest = (principal * rate * time) / 100\n",
        "print(f\"The simple interest is: {simple_interest}\")\n",
        "\n"
      ],
      "metadata": {
        "colab": {
          "base_uri": "https://localhost:8080/"
        },
        "id": "bh_s5JmQdCd5",
        "outputId": "018541a8-ff1a-4af5-89f2-a5a826bc4e5b"
      },
      "execution_count": null,
      "outputs": [
        {
          "output_type": "stream",
          "name": "stdout",
          "text": [
            "Enter the principal amount: 2\n",
            "Enter the rate of interest: 2\n",
            "Enter the time (in years): 3\n",
            "The simple interest is: 0.12\n"
          ]
        }
      ]
    },
    {
      "cell_type": "code",
      "source": [
        "#5. PYHTON PROGRAM FOR COMPOUND INTEREST\n",
        "\n",
        "principal = float(input(\"Enter the principal amount: \"))\n",
        "rate = float(input(\"Enter the rate of interest: \"))\n",
        "time = float(input(\"Enter the time (in years): \"))\n",
        "compound_interest = principal * (1 + rate / 100) ** time - principal\n",
        "print(f\"The compound interest is: {compound_interest}\")\n"
      ],
      "metadata": {
        "colab": {
          "base_uri": "https://localhost:8080/"
        },
        "id": "LxEDoIjrdPS6",
        "outputId": "05219b28-5915-476a-e8df-1940782a350f"
      },
      "execution_count": null,
      "outputs": [
        {
          "output_type": "stream",
          "name": "stdout",
          "text": [
            "Enter the principal amount: 2\n",
            "Enter the rate of interest: 2\n",
            "Enter the time (in years): 3\n",
            "The compound interest is: 0.1224160000000003\n"
          ]
        }
      ]
    },
    {
      "cell_type": "code",
      "source": [
        "#6. PYTHON PROGRAM TO ARMSTRONG NUMBER\n",
        "\n",
        "num = int(input(\"Enter a number: \"))\n",
        "temp = num\n",
        "order = len(str(num))\n",
        "sum_armstrong = 0\n",
        "\n",
        "while temp > 0:\n",
        "    digit = temp % 10\n",
        "    sum_armstrong += digit ** order\n",
        "    temp //= 10\n",
        "\n",
        "if num == sum_armstrong:\n",
        "    print(f\"{num} is an Armstrong number.\")\n",
        "else:\n",
        "    print(f\"{num} is not an Armstrong number.\")\n"
      ],
      "metadata": {
        "colab": {
          "base_uri": "https://localhost:8080/"
        },
        "id": "G68UsCKcdiQU",
        "outputId": "e38371c3-a086-4b11-c3fa-374054771e99"
      },
      "execution_count": null,
      "outputs": [
        {
          "output_type": "stream",
          "name": "stdout",
          "text": [
            "Enter a number: 0987890\n",
            "987890 is not an Armstrong number.\n"
          ]
        }
      ]
    },
    {
      "cell_type": "code",
      "source": [
        "#7. PYHTON PROGRAM FOR PROGRAM TO FIND AREA OF A CIRCLE\n",
        "\n",
        "import math\n",
        "\n",
        "radius = int(input(\"Enter the radius of the circle: \"))\n",
        "area_circle = math.pi * (radius ** 2)\n",
        "print(f\"The area of the circle with radius {radius} is {area_circle}\")\n"
      ],
      "metadata": {
        "colab": {
          "base_uri": "https://localhost:8080/"
        },
        "id": "WtNfW3YYdsuZ",
        "outputId": "ec13f1d9-a72a-4a11-b106-7a1f8e5c597f"
      },
      "execution_count": null,
      "outputs": [
        {
          "output_type": "stream",
          "name": "stdout",
          "text": [
            "Enter the radius of the circle: 2\n",
            "The area of the circle with radius 2 is 12.566370614359172\n"
          ]
        }
      ]
    },
    {
      "cell_type": "code",
      "source": [
        "#8. PYTHON PROGRAM TO PRINT ALL PRIME NUMBERS IN AN INTERVAL\n",
        "\n",
        "def is_prime(num):\n",
        "    if num < 2:\n",
        "        return False\n",
        "    for i in range(2, int(num**0.5) + 1):\n",
        "        if num % i == 0:\n",
        "            return False\n",
        "    return True\n",
        "\n",
        "start = int(input(\"Enter the start of the interval: \"))\n",
        "end = int(input(\"Enter the end of the interval: \"))\n",
        "\n",
        "print(f\"Prime numbers between {start} and {end}:\")\n",
        "for num in range(start, end + 1):\n",
        "    if is_prime(num):\n",
        "        print(num, end=\" \")\n"
      ],
      "metadata": {
        "colab": {
          "base_uri": "https://localhost:8080/"
        },
        "id": "QzvfcWKEd8-E",
        "outputId": "034b70f9-aeec-49dd-cb2d-27abd26315fd"
      },
      "execution_count": null,
      "outputs": [
        {
          "output_type": "stream",
          "name": "stdout",
          "text": [
            "Enter the start of the interval: 2\n",
            "Enter the end of the interval: 7\n",
            "Prime numbers between 2 and 7:\n",
            "2 3 5 7 "
          ]
        }
      ]
    },
    {
      "cell_type": "code",
      "source": [
        "#9. PYTHON PROGRAM TO CHECK WHETHER A NUMBER IS PRIME OR NOT\n",
        "\n",
        "def is_prime(num):\n",
        "    if num < 2:\n",
        "        return False\n",
        "    for i in range(2, int(num**0.5) + 1):\n",
        "        if num % i == 0:\n",
        "            return False\n",
        "    return True\n",
        "\n",
        "num = int(input(\"Enter a number: \"))\n",
        "if is_prime(num):\n",
        "    print(f\"{num} is a Prime number.\")\n",
        "else:\n",
        "    print(f\"{num} is not a Prime number.\")\n"
      ],
      "metadata": {
        "colab": {
          "base_uri": "https://localhost:8080/"
        },
        "id": "PIfl-4pgeeiu",
        "outputId": "bfb7c405-403f-4458-a4e4-532111600cb0"
      },
      "execution_count": null,
      "outputs": [
        {
          "output_type": "stream",
          "name": "stdout",
          "text": [
            "Enter a number: 2\n",
            "2 is a Prime number.\n"
          ]
        }
      ]
    },
    {
      "cell_type": "code",
      "source": [
        "#10. PYTHON PROGRAM FOR N-TH FIBONACCI NUMBER\n",
        "\n",
        "def fibonacci(n):\n",
        "    if n <= 1:\n",
        "        return n\n",
        "    else:\n",
        "        return fibonacci(n - 1) + fibonacci(n - 2)\n",
        "\n",
        "n = int(input(\"Enter the value of n: \"))\n",
        "result = fibonacci(n)\n",
        "print(f\"The {n}-th Fibonacci number is {result}\")\n"
      ],
      "metadata": {
        "colab": {
          "base_uri": "https://localhost:8080/"
        },
        "id": "eg4XUlmqgcrY",
        "outputId": "e3752f12-cd9d-436b-e7e0-adbf6c35e84a"
      },
      "execution_count": null,
      "outputs": [
        {
          "output_type": "stream",
          "name": "stdout",
          "text": [
            "Enter the value of n: 23\n",
            "The 23-th Fibonacci number is 28657\n"
          ]
        }
      ]
    },
    {
      "cell_type": "code",
      "source": [
        "#11. PYHTON PROGRAM FOR HOW TO CHECK IF A GIVEN NUMBER IS FIBONACCI NUMBER\n",
        "\n",
        "def is_perfect_square(num):\n",
        "    sqrt_num = int(num**0.5)\n",
        "    return num == sqrt_num * sqrt_num\n",
        "\n",
        "def is_fibonacci(num):\n",
        "    return is_perfect_square(5 * num**2 + 4) or is_perfect_square(5 * num**2 - 4)\n",
        "\n",
        "num = int(input(\"Enter a number: \"))\n",
        "if is_fibonacci(num):\n",
        "    print(f\"{num} is a Fibonacci number.\")\n",
        "else:\n",
        "    print(f\"{num} is not a Fibonacci number.\")\n"
      ],
      "metadata": {
        "colab": {
          "base_uri": "https://localhost:8080/"
        },
        "id": "96O1St-ygnL2",
        "outputId": "c816f5a6-e1e8-4c31-d29c-fafae9be2cfc"
      },
      "execution_count": null,
      "outputs": [
        {
          "output_type": "stream",
          "name": "stdout",
          "text": [
            "Enter a number: 3\n",
            "3 is a Fibonacci number.\n"
          ]
        }
      ]
    },
    {
      "cell_type": "code",
      "source": [
        "#12. PYHTON PROGRAM FOR N'TH MULTIPLE OF A NUMBER IN FIBONACCI SERIES\n",
        "\n",
        "def fibonacci_multiple(n, k):\n",
        "    return n * k\n",
        "\n",
        "n = int(input(\"Enter the value of n: \"))\n",
        "k = int(input(\"Enter the value of k: \"))\n",
        "result = fibonacci_multiple(n, k)\n",
        "print(f\"The {n}'th multiple of {k} in the Fibonacci series is {result}\")\n"
      ],
      "metadata": {
        "colab": {
          "base_uri": "https://localhost:8080/"
        },
        "id": "b9zFESLRg4xa",
        "outputId": "3fadbf54-936a-42a9-c4cd-0b0272021e36"
      },
      "execution_count": null,
      "outputs": [
        {
          "output_type": "stream",
          "name": "stdout",
          "text": [
            "Enter the value of n: 23\n",
            "Enter the value of k: 32\n",
            "The 23'th multiple of 32 in the Fibonacci series is 736\n"
          ]
        }
      ]
    },
    {
      "cell_type": "code",
      "source": [
        "#13. PROGRAM TO PRINT ASCII VALUE OF A CHARACTER\n",
        "\n",
        "char = input(\"Enter a character: \")\n",
        "ascii_value = ord(char)\n",
        "print(f\"The ASCII value of {char} is {ascii_value}\")\n"
      ],
      "metadata": {
        "colab": {
          "base_uri": "https://localhost:8080/"
        },
        "id": "baQM7hB8hkva",
        "outputId": "bb8b9af1-ce76-4499-d4ea-450a4686d97f"
      },
      "execution_count": null,
      "outputs": [
        {
          "output_type": "stream",
          "name": "stdout",
          "text": [
            "Enter a character: C\n",
            "The ASCII value of C is 67\n"
          ]
        }
      ]
    },
    {
      "cell_type": "code",
      "source": [
        "#14. PYTHON PROGRAM FOR SUM OF SQUARES OF FIRST N NATURAL NUMBERS\n",
        "\n",
        "n = int(input(\"Enter the value of n: \"))\n",
        "sum_squares = (n * (n + 1) * (2 * n + 1)) // 6\n",
        "print(f\"The sum of squares of the first {n} natural numbers is {sum_squares}\")\n"
      ],
      "metadata": {
        "colab": {
          "base_uri": "https://localhost:8080/"
        },
        "id": "PeBQDmzNiD57",
        "outputId": "61bd7c21-2fca-4178-caf3-e954bb2bfba1"
      },
      "execution_count": null,
      "outputs": [
        {
          "output_type": "stream",
          "name": "stdout",
          "text": [
            "Enter the value of n: 2\n",
            "The sum of squares of the first 2 natural numbers is 5\n"
          ]
        }
      ]
    },
    {
      "cell_type": "code",
      "source": [
        "#15. PYTHON PROGRAM FOR CUBE SUM OF FIRST N NATURAL NUMBERS\n",
        "\n",
        "n = int(input(\"Enter the value of n: \"))\n",
        "sum_cubes = ((n * (n + 1)) // 2)**2\n",
        "print(f\"The cube sum of the first {n} natural numbers is {sum_cubes}\")\n"
      ],
      "metadata": {
        "colab": {
          "base_uri": "https://localhost:8080/"
        },
        "id": "iUuo9u1HieIV",
        "outputId": "ba52a9b8-c77d-4648-bf6c-a9ce755fff29"
      },
      "execution_count": null,
      "outputs": [
        {
          "output_type": "stream",
          "name": "stdout",
          "text": [
            "Enter the value of n: 2\n",
            "The cube sum of the first 2 natural numbers is 9\n"
          ]
        }
      ]
    },
    {
      "cell_type": "code",
      "source": [],
      "metadata": {
        "id": "UeiSy1LQir0K"
      },
      "execution_count": null,
      "outputs": []
    }
  ]
}