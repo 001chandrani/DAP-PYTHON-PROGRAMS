{
  "nbformat": 4,
  "nbformat_minor": 0,
  "metadata": {
    "colab": {
      "provenance": [],
      "authorship_tag": "ABX9TyPK78E21dBHlTBs8phoe8+U",
      "include_colab_link": true
    },
    "kernelspec": {
      "name": "python3",
      "display_name": "Python 3"
    },
    "language_info": {
      "name": "python"
    }
  },
  "cells": [
    {
      "cell_type": "markdown",
      "metadata": {
        "id": "view-in-github",
        "colab_type": "text"
      },
      "source": [
        "<a href=\"https://colab.research.google.com/github/001chandrani/DAP-PYTHON-PROGRAMS/blob/main/ARRAYPROGRAMS.ipynb\" target=\"_parent\"><img src=\"https://colab.research.google.com/assets/colab-badge.svg\" alt=\"Open In Colab\"/></a>"
      ]
    },
    {
      "cell_type": "markdown",
      "source": [
        "**ARRAY PYTHON PROGRAMS**\n"
      ],
      "metadata": {
        "id": "ZFsU87qc0LvW"
      }
    },
    {
      "cell_type": "code",
      "source": [
        "#1. PYTHON PROGRAM TO FIND THE SUM OF AN ARRAY\n",
        "\n",
        "def sum_of_array(arr):\n",
        "    return sum(arr)\n",
        "\n",
        "array = list(map(int, input(\"Enter the elements of the array (space-separated): \").split()))\n",
        "result = sum_of_array(array)\n",
        "print(f\"The sum of the array is {result}\")\n"
      ],
      "metadata": {
        "colab": {
          "base_uri": "https://localhost:8080/"
        },
        "id": "8haOKHnU0TrO",
        "outputId": "ba907dca-9e50-4364-e06d-acd9fa111a14"
      },
      "execution_count": null,
      "outputs": [
        {
          "output_type": "stream",
          "name": "stdout",
          "text": [
            "Enter the elements of the array (space-separated): 3 4 2 4 5\n",
            "The sum of the array is 18\n"
          ]
        }
      ]
    },
    {
      "cell_type": "code",
      "source": [
        "#2. PYTHON PROGRAM TO FIND THE LARGEST ELEMENT IN AN ARRAY\n",
        "\n",
        "def find_largest_element(arr):\n",
        "    return max(arr)\n",
        "\n",
        "array = list(map(int, input(\"Enter the elements of the array (space-separated): \").split()))\n",
        "result = find_largest_element(array)\n",
        "print(f\"The largest element in the array is {result}\")\n"
      ],
      "metadata": {
        "colab": {
          "base_uri": "https://localhost:8080/"
        },
        "id": "LMVWI1Yc0fvk",
        "outputId": "2dc147b9-681a-4790-ced2-a87aae89abe1"
      },
      "execution_count": null,
      "outputs": [
        {
          "output_type": "stream",
          "name": "stdout",
          "text": [
            "Enter the elements of the array (space-separated): 2 3 4 2 1 5 \n",
            "The largest element in the array is 5\n"
          ]
        }
      ]
    },
    {
      "cell_type": "code",
      "source": [
        "#3. PYTHON PROGRAM FOR ARRAY ROTATION\n",
        "\n",
        "def rotate_array(arr, k):\n",
        "    return arr[k:] + arr[:k]\n",
        "\n",
        "array = list(map(int, input(\"Enter the elements of the array (space-separated): \").split()))\n",
        "rotation_count = int(input(\"Enter the rotation count: \"))\n",
        "result = rotate_array(array, rotation_count)\n",
        "print(f\"The array after rotation is {result}\")\n"
      ],
      "metadata": {
        "colab": {
          "base_uri": "https://localhost:8080/"
        },
        "id": "kH7tUdz30wVH",
        "outputId": "b5055b6e-df36-4f75-ea06-374152f9efbb"
      },
      "execution_count": null,
      "outputs": [
        {
          "output_type": "stream",
          "name": "stdout",
          "text": [
            "Enter the elements of the array (space-separated): 2 5 4 6 3 \n",
            "Enter the rotation count: 3 \n",
            "The array after rotation is [6, 3, 2, 5, 4]\n"
          ]
        }
      ]
    },
    {
      "cell_type": "code",
      "source": [
        "#4. PYTHON PROGRAM FOR REVERSAL ALGORITHM FOR ARRAY ROTATION\n",
        "\n",
        "def reverse_array(arr, start, end):\n",
        "    while start < end:\n",
        "        arr[start], arr[end] = arr[end], arr[start]\n",
        "        start += 1\n",
        "        end -= 1\n",
        "\n",
        "def rotate_array_reversal_algorithm(arr, k):\n",
        "    n = len(arr)\n",
        "    reverse_array(arr, 0, k - 1)\n",
        "    reverse_array(arr, k, n - 1)\n",
        "    reverse_array(arr, 0, n - 1)\n",
        "    return arr\n",
        "\n",
        "array = list(map(int, input(\"Enter the elements of the array (space-separated): \").split()))\n",
        "rotation_count = int(input(\"Enter the rotation count: \"))\n",
        "result = rotate_array_reversal_algorithm(array, rotation_count)\n",
        "print(f\"The array after rotation is {result}\")\n",
        "\n"
      ],
      "metadata": {
        "colab": {
          "base_uri": "https://localhost:8080/"
        },
        "id": "rjXYXBUf06HV",
        "outputId": "3c8caafa-48dc-42fd-bd08-659b85f9150a"
      },
      "execution_count": null,
      "outputs": [
        {
          "output_type": "stream",
          "name": "stdout",
          "text": [
            "Enter the elements of the array (space-separated): 3 4 2 7 6 5\n",
            "Enter the rotation count: 2\n",
            "The array after rotation is [2, 7, 6, 5, 3, 4]\n"
          ]
        }
      ]
    },
    {
      "cell_type": "code",
      "source": [
        "#5. PYTHON PROGRAM TO SPLIT THE ARRAY AND ADD THE FIRST PART TO THE END\n",
        "\n",
        "def split_and_add(arr, k):\n",
        "    return arr[k:] + arr[:k]\n",
        "\n",
        "array = list(map(int, input(\"Enter the elements of the array (space-separated): \").split()))\n",
        "split_index = int(input(\"Enter the split index: \"))\n",
        "result = split_and_add(array, split_index)\n",
        "print(f\"The array after splitting and adding is {result}\")\n"
      ],
      "metadata": {
        "colab": {
          "base_uri": "https://localhost:8080/"
        },
        "id": "R-BamKBA1L5y",
        "outputId": "ad7d70d0-ceef-4b1b-de14-f83dd0b295b5"
      },
      "execution_count": null,
      "outputs": [
        {
          "output_type": "stream",
          "name": "stdout",
          "text": [
            "Enter the elements of the array (space-separated): 5 3 4 8 1 \n",
            "Enter the split index: 1\n",
            "The array after splitting and adding is [3, 4, 8, 1, 5]\n"
          ]
        }
      ]
    },
    {
      "cell_type": "code",
      "source": [
        "#6. PYTHON PROGRAM FOR FINDING REMAINDER OF ARRAY MULTIPLICATION DIVIDED BY N\n",
        "\n",
        "def remainder_of_array_multiplication(arr, n):\n",
        "    result = 1\n",
        "    for num in arr:\n",
        "        result = (result * num) % n\n",
        "    return result\n",
        "\n",
        "array = list(map(int, input(\"Enter the elements of the array (space-separated): \").split()))\n",
        "modulus = int(input(\"Enter the value of n: \"))\n",
        "result = remainder_of_array_multiplication(array, modulus)\n",
        "print(f\"The remainder of array multiplication divided by {modulus} is {result}\")\n"
      ],
      "metadata": {
        "colab": {
          "base_uri": "https://localhost:8080/"
        },
        "id": "lI3MdXsV1fGS",
        "outputId": "666b3e5b-ab5d-453a-a620-42bbbe00cf17"
      },
      "execution_count": null,
      "outputs": [
        {
          "output_type": "stream",
          "name": "stdout",
          "text": [
            "Enter the elements of the array (space-separated): 7 6 8 4 5 3\n",
            "Enter the value of n: 2\n",
            "The remainder of array multiplication divided by 2 is 0\n"
          ]
        }
      ]
    },
    {
      "cell_type": "code",
      "source": [
        "#7. PYTHON PROGRAM TO CHECK IF THE GIVEN ARRAY IS MONOTONIC\n",
        "\n",
        "def is_monotonic(arr):\n",
        "    increasing = all(arr[i] <= arr[i + 1] for i in range(len(arr) - 1))\n",
        "    decreasing = all(arr[i] >= arr[i + 1] for i in range(len(arr) - 1))\n",
        "    return increasing or decreasing\n",
        "\n",
        "array = list(map(int, input(\"Enter the elements of the array (space-separated): \").split()))\n",
        "if is_monotonic(array):\n",
        "    print(\"The array is monotonic.\")\n",
        "else:\n",
        "    print(\"The array is not monotonic.\")\n"
      ],
      "metadata": {
        "colab": {
          "base_uri": "https://localhost:8080/"
        },
        "id": "TI3EJUqZ1wjt",
        "outputId": "e761620c-b459-46d1-f1ad-6d4fe60d25d7"
      },
      "execution_count": null,
      "outputs": [
        {
          "output_type": "stream",
          "name": "stdout",
          "text": [
            "Enter the elements of the array (space-separated): 4 7 6 8 5 \n",
            "The array is not monotonic.\n"
          ]
        }
      ]
    }
  ]
}